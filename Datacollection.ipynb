{
 "cells": [
  {
   "cell_type": "code",
   "execution_count": 2,
   "metadata": {},
   "outputs": [
    {
     "name": "stdout",
     "output_type": "stream",
     "text": [
      "            Date   1. open   2. high    3. low  4. close Currency Pair\n",
      "0     2014-09-22  60.93800  61.04800  60.59000  61.00000       USD/INR\n",
      "1     2014-09-23  61.04800  61.04800  60.84000  60.98000       USD/INR\n",
      "2     2014-09-24  60.81000  61.46000  60.81000  60.81000       USD/INR\n",
      "3     2014-09-25  61.49000  61.60000  61.01300  61.49000       USD/INR\n",
      "4     2014-09-28  61.38000  61.62000  61.13800  61.13800       USD/INR\n",
      "...          ...       ...       ...       ...       ...           ...\n",
      "39074 2024-09-11   1.30456   1.30589   1.30320   1.30456       USD/SGD\n",
      "39075 2024-09-12   1.30068   1.30067   1.29740   1.30068       USD/SGD\n",
      "39076 2024-09-15   1.29743   1.29791   1.29400   1.29743       USD/SGD\n",
      "39077 2024-09-16   1.29566   1.29660   1.29240   1.29566       USD/SGD\n",
      "39078 2024-09-18   1.29590   1.29590   1.29357   1.29427       USD/SGD\n",
      "\n",
      "[39079 rows x 6 columns]\n"
     ]
    }
   ],
   "source": [
    "import requests\n",
    "import pandas as pd\n",
    "from datetime import datetime, timedelta\n",
    "\n",
    "# Replace with your Alpha Vantage API key\n",
    "api_key = 'YOUR_API_KEY'\n",
    "\n",
    "# Function to fetch forex data\n",
    "def fetch_forex_data(from_currency, to_currency):\n",
    "    url = f'https://www.alphavantage.co/query'\n",
    "    params = {\n",
    "        'function': 'FX_DAILY',\n",
    "        'from_symbol': from_currency,\n",
    "        'to_symbol': to_currency,\n",
    "        'apikey': api_key,\n",
    "        'outputsize': 'full'\n",
    "    }\n",
    "    response = requests.get(url, params=params)\n",
    "    data = response.json()\n",
    "    \n",
    "    # Extracting the time series data\n",
    "    time_series = data.get('Time Series FX (Daily)', {})\n",
    "    \n",
    "    # Converting to DataFrame\n",
    "    df = pd.DataFrame.from_dict(time_series, orient='index')\n",
    "    df.index = pd.to_datetime(df.index)\n",
    "    df = df.sort_index()\n",
    "    \n",
    "    # Adding a column for the currency pair\n",
    "    df['Currency Pair'] = f'{from_currency}/{to_currency}'\n",
    "    \n",
    "    # Filtering data for the last 10 years\n",
    "    ten_years_ago = datetime.now() - timedelta(days=365*10)\n",
    "    df = df[df.index >= ten_years_ago]\n",
    "    \n",
    "    return df\n",
    "\n",
    "# List of common currency pairs to fetch\n",
    "currency_pairs = [\n",
    "    ('USD', 'INR'), ('EUR', 'USD'), ('GBP', 'USD'), ('USD', 'JPY'), ('AUD', 'USD'),\n",
    "    ('USD', 'CAD'), ('USD', 'CHF'), ('NZD', 'USD'), ('EUR', 'GBP'), ('EUR', 'JPY'),\n",
    "    ('GBP', 'JPY'), ('AUD', 'JPY'), ('EUR', 'AUD'), ('GBP', 'AUD'), ('USD', 'SGD')\n",
    "]\n",
    "\n",
    "# Fetching data for all currency pairs and combining into a single DataFrame\n",
    "all_data = pd.DataFrame()\n",
    "for from_currency, to_currency in currency_pairs:\n",
    "    forex_data = fetch_forex_data(from_currency, to_currency)\n",
    "    all_data = pd.concat([all_data, forex_data])\n",
    "\n",
    "# Resetting index for the combined DataFrame\n",
    "all_data.reset_index(inplace=True)\n",
    "all_data.rename(columns={'index': 'Date'}, inplace=True)\n",
    "\n",
    "print(all_data)\n"
   ]
  },
  {
   "cell_type": "code",
   "execution_count": null,
   "metadata": {},
   "outputs": [],
   "source": []
  }
 ],
 "metadata": {
  "language_info": {
   "name": "python"
  }
 },
 "nbformat": 4,
 "nbformat_minor": 2
}
