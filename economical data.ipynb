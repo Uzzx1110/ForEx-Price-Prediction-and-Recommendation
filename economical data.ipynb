{
 "cells": [
  {
   "cell_type": "code",
   "execution_count": 1,
   "metadata": {},
   "outputs": [
    {
     "name": "stdout",
     "output_type": "stream",
     "text": [
      "Interest Rates:\n",
      "           date value\n",
      "0    2024-08-01  5.33\n",
      "1    2024-07-01  5.33\n",
      "2    2024-06-01  5.33\n",
      "3    2024-05-01  5.33\n",
      "4    2024-04-01  5.33\n",
      "..          ...   ...\n",
      "837  1954-11-01  0.83\n",
      "838  1954-10-01  0.85\n",
      "839  1954-09-01  1.07\n",
      "840  1954-08-01  1.22\n",
      "841  1954-07-01  0.80\n",
      "\n",
      "[842 rows x 2 columns]\n",
      "\n",
      "CPI Data:\n",
      "            date    value\n",
      "0     2024-08-01  314.796\n",
      "1     2024-07-01  314.540\n",
      "2     2024-06-01  314.175\n",
      "3     2024-05-01  314.069\n",
      "4     2024-04-01  313.548\n",
      "...          ...      ...\n",
      "1335  1913-05-01    9.700\n",
      "1336  1913-04-01    9.800\n",
      "1337  1913-03-01    9.800\n",
      "1338  1913-02-01    9.800\n",
      "1339  1913-01-01    9.800\n",
      "\n",
      "[1340 rows x 2 columns]\n",
      "\n",
      "GDP Data:\n",
      "          date      value\n",
      "0   2023-01-01  22376.906\n",
      "1   2022-01-01  21822.037\n",
      "2   2021-01-01  21407.692\n",
      "3   2020-01-01  20234.074\n",
      "4   2019-01-01  20692.087\n",
      "..         ...        ...\n",
      "90  1933-01-01    877.431\n",
      "91  1932-01-01    888.414\n",
      "92  1931-01-01   1019.977\n",
      "93  1930-01-01   1089.785\n",
      "94  1929-01-01   1191.124\n",
      "\n",
      "[95 rows x 2 columns]\n",
      "\n",
      "Unemployment Data:\n",
      "           date value\n",
      "0    2024-08-01   4.2\n",
      "1    2024-07-01   4.3\n",
      "2    2024-06-01   4.1\n",
      "3    2024-05-01   4.0\n",
      "4    2024-04-01   3.9\n",
      "..          ...   ...\n",
      "915  1948-05-01   3.5\n",
      "916  1948-04-01   3.9\n",
      "917  1948-03-01   4.0\n",
      "918  1948-02-01   3.8\n",
      "919  1948-01-01   3.4\n",
      "\n",
      "[920 rows x 2 columns]\n"
     ]
    }
   ],
   "source": [
    "import requests\n",
    "import pandas as pd\n",
    "\n",
    "API_KEY = 'YOUR_API_KEY'  # Replace with your Alpha Vantage API key\n",
    "\n",
    "def get_interest_rates():\n",
    "    url = f'https://www.alphavantage.co/query?function=FEDERAL_FUNDS_RATE&apikey={API_KEY}'\n",
    "    response = requests.get(url)\n",
    "    data = response.json()\n",
    "    return pd.DataFrame.from_dict(data['data'], orient='columns')\n",
    "\n",
    "def get_cpi_data():\n",
    "    url = f'https://www.alphavantage.co/query?function=CPI&apikey={API_KEY}'\n",
    "    response = requests.get(url)\n",
    "    data = response.json()\n",
    "    return pd.DataFrame.from_dict(data['data'], orient='columns')\n",
    "\n",
    "def get_gdp_data():\n",
    "    url = f'https://www.alphavantage.co/query?function=REAL_GDP&apikey={API_KEY}'\n",
    "    response = requests.get(url)\n",
    "    data = response.json()\n",
    "    return pd.DataFrame.from_dict(data['data'], orient='columns')\n",
    "\n",
    "def get_unemployment_data():\n",
    "    url = f'https://www.alphavantage.co/query?function=UNEMPLOYMENT&apikey={API_KEY}'\n",
    "    response = requests.get(url)\n",
    "    data = response.json()\n",
    "    return pd.DataFrame.from_dict(data['data'], orient='columns')\n",
    "\n",
    "# Fetching data\n",
    "interest_rates = get_interest_rates()\n",
    "cpi_data = get_cpi_data()\n",
    "gdp_data = get_gdp_data()\n",
    "unemployment_data = get_unemployment_data()\n",
    "\n",
    "# Print the dataframes\n",
    "print(\"Interest Rates:\")\n",
    "print(interest_rates)\n",
    "\n",
    "print(\"\\nCPI Data:\")\n",
    "print(cpi_data)\n",
    "\n",
    "print(\"\\nGDP Data:\")\n",
    "print(gdp_data)\n",
    "\n",
    "print(\"\\nUnemployment Data:\")\n",
    "print(unemployment_data)\n"
   ]
  },
  {
   "cell_type": "code",
   "execution_count": 2,
   "metadata": {},
   "outputs": [],
   "source": [
    "import pandas as pd\n",
    "import numpy as np\n",
    "\n",
    "# Mock function to simulate fetching economic data\n",
    "def get_economic_data():\n",
    "    # Simulated data (you would replace this with actual API calls)\n",
    "    data = {\n",
    "        'date': pd.date_range(start='2020-01-01', periods=100),\n",
    "        'interest_rate': np.random.uniform(0.01, 0.05, size=100),  # Simulated interest rates\n",
    "        'inflation_rate': np.random.uniform(1, 3, size=100),  # Simulated inflation\n",
    "        'gdp_growth_rate': np.random.uniform(1, 5, size=100),  # Simulated GDP growth\n",
    "        'unemployment_rate': np.random.uniform(3, 10, size=100),  # Simulated unemployment\n",
    "        'currency_price': np.random.uniform(1, 2, size=100)  # Simulated currency prices\n",
    "    }\n",
    "    return pd.DataFrame(data)\n",
    "\n",
    "# Fetch economic data\n",
    "data = get_economic_data()\n"
   ]
  },
  {
   "cell_type": "code",
   "execution_count": 3,
   "metadata": {},
   "outputs": [
    {
     "name": "stdout",
     "output_type": "stream",
     "text": [
      "Defaulting to user installation because normal site-packages is not writeable\n",
      "Requirement already satisfied: gym in c:\\users\\cl501_27\\appdata\\roaming\\python\\python311\\site-packages (0.26.2)\n",
      "Requirement already satisfied: numpy>=1.18.0 in c:\\programdata\\anaconda3\\lib\\site-packages (from gym) (1.26.4)\n",
      "Requirement already satisfied: cloudpickle>=1.2.0 in c:\\programdata\\anaconda3\\lib\\site-packages (from gym) (2.2.1)\n",
      "Requirement already satisfied: gym-notices>=0.0.4 in c:\\users\\cl501_27\\appdata\\roaming\\python\\python311\\site-packages (from gym) (0.0.8)\n",
      "Note: you may need to restart the kernel to use updated packages.\n"
     ]
    },
    {
     "name": "stderr",
     "output_type": "stream",
     "text": [
      "DEPRECATION: Loading egg at c:\\programdata\\anaconda3\\lib\\site-packages\\vboxapi-1.0-py3.11.egg is deprecated. pip 24.3 will enforce this behaviour change. A possible replacement is to use pip for package installation. Discussion can be found at https://github.com/pypa/pip/issues/12330\n"
     ]
    }
   ],
   "source": [
    "pip install gym"
   ]
  },
  {
   "cell_type": "code",
   "execution_count": 4,
   "metadata": {},
   "outputs": [],
   "source": [
    "import gym\n",
    "from gym import spaces\n",
    "\n"
   ]
  },
  {
   "cell_type": "code",
   "execution_count": 5,
   "metadata": {},
   "outputs": [
    {
     "name": "stdout",
     "output_type": "stream",
     "text": [
      "Defaulting to user installation because normal site-packages is not writeable\n",
      "Requirement already satisfied: stable-baselines3 in c:\\users\\cl501_27\\appdata\\roaming\\python\\python311\\site-packages (2.3.2)\n",
      "Requirement already satisfied: gymnasium<0.30,>=0.28.1 in c:\\users\\cl501_27\\appdata\\roaming\\python\\python311\\site-packages (from stable-baselines3) (0.29.1)\n",
      "Requirement already satisfied: numpy>=1.20 in c:\\programdata\\anaconda3\\lib\\site-packages (from stable-baselines3) (1.26.4)\n",
      "Requirement already satisfied: torch>=1.13 in c:\\users\\cl501_27\\appdata\\roaming\\python\\python311\\site-packages (from stable-baselines3) (2.4.1)\n",
      "Requirement already satisfied: cloudpickle in c:\\programdata\\anaconda3\\lib\\site-packages (from stable-baselines3) (2.2.1)\n",
      "Requirement already satisfied: pandas in c:\\programdata\\anaconda3\\lib\\site-packages (from stable-baselines3) (2.1.4)\n",
      "Requirement already satisfied: matplotlib in c:\\programdata\\anaconda3\\lib\\site-packages (from stable-baselines3) (3.8.0)\n",
      "Requirement already satisfied: typing-extensions>=4.3.0 in c:\\programdata\\anaconda3\\lib\\site-packages (from gymnasium<0.30,>=0.28.1->stable-baselines3) (4.9.0)\n",
      "Requirement already satisfied: farama-notifications>=0.0.1 in c:\\users\\cl501_27\\appdata\\roaming\\python\\python311\\site-packages (from gymnasium<0.30,>=0.28.1->stable-baselines3) (0.0.4)\n",
      "Requirement already satisfied: filelock in c:\\programdata\\anaconda3\\lib\\site-packages (from torch>=1.13->stable-baselines3) (3.13.1)\n",
      "Requirement already satisfied: sympy in c:\\programdata\\anaconda3\\lib\\site-packages (from torch>=1.13->stable-baselines3) (1.12)\n",
      "Requirement already satisfied: networkx in c:\\programdata\\anaconda3\\lib\\site-packages (from torch>=1.13->stable-baselines3) (3.1)\n",
      "Requirement already satisfied: jinja2 in c:\\programdata\\anaconda3\\lib\\site-packages (from torch>=1.13->stable-baselines3) (3.1.3)\n",
      "Requirement already satisfied: fsspec in c:\\programdata\\anaconda3\\lib\\site-packages (from torch>=1.13->stable-baselines3) (2023.10.0)\n",
      "Requirement already satisfied: contourpy>=1.0.1 in c:\\programdata\\anaconda3\\lib\\site-packages (from matplotlib->stable-baselines3) (1.2.0)\n",
      "Requirement already satisfied: cycler>=0.10 in c:\\programdata\\anaconda3\\lib\\site-packages (from matplotlib->stable-baselines3) (0.11.0)\n",
      "Requirement already satisfied: fonttools>=4.22.0 in c:\\programdata\\anaconda3\\lib\\site-packages (from matplotlib->stable-baselines3) (4.25.0)\n",
      "Requirement already satisfied: kiwisolver>=1.0.1 in c:\\programdata\\anaconda3\\lib\\site-packages (from matplotlib->stable-baselines3) (1.4.4)\n",
      "Requirement already satisfied: packaging>=20.0 in c:\\programdata\\anaconda3\\lib\\site-packages (from matplotlib->stable-baselines3) (23.1)\n",
      "Requirement already satisfied: pillow>=6.2.0 in c:\\programdata\\anaconda3\\lib\\site-packages (from matplotlib->stable-baselines3) (10.2.0)\n",
      "Requirement already satisfied: pyparsing>=2.3.1 in c:\\programdata\\anaconda3\\lib\\site-packages (from matplotlib->stable-baselines3) (3.0.9)\n",
      "Requirement already satisfied: python-dateutil>=2.7 in c:\\programdata\\anaconda3\\lib\\site-packages (from matplotlib->stable-baselines3) (2.8.2)\n",
      "Requirement already satisfied: pytz>=2020.1 in c:\\programdata\\anaconda3\\lib\\site-packages (from pandas->stable-baselines3) (2023.3.post1)\n",
      "Requirement already satisfied: tzdata>=2022.1 in c:\\programdata\\anaconda3\\lib\\site-packages (from pandas->stable-baselines3) (2023.3)\n",
      "Requirement already satisfied: six>=1.5 in c:\\programdata\\anaconda3\\lib\\site-packages (from python-dateutil>=2.7->matplotlib->stable-baselines3) (1.16.0)\n",
      "Requirement already satisfied: MarkupSafe>=2.0 in c:\\programdata\\anaconda3\\lib\\site-packages (from jinja2->torch>=1.13->stable-baselines3) (2.1.3)\n",
      "Requirement already satisfied: mpmath>=0.19 in c:\\programdata\\anaconda3\\lib\\site-packages (from sympy->torch>=1.13->stable-baselines3) (1.3.0)\n",
      "Note: you may need to restart the kernel to use updated packages.\n"
     ]
    },
    {
     "name": "stderr",
     "output_type": "stream",
     "text": [
      "DEPRECATION: Loading egg at c:\\programdata\\anaconda3\\lib\\site-packages\\vboxapi-1.0-py3.11.egg is deprecated. pip 24.3 will enforce this behaviour change. A possible replacement is to use pip for package installation. Discussion can be found at https://github.com/pypa/pip/issues/12330\n"
     ]
    }
   ],
   "source": [
    "pip install stable-baselines3\n"
   ]
  },
  {
   "cell_type": "code",
   "execution_count": 6,
   "metadata": {},
   "outputs": [],
   "source": [
    "class ForexTradingEnv(gym.Env):\n",
    "    def __init__(self, data):\n",
    "        super(ForexTradingEnv, self).__init__()\n",
    "        self.data = data.reset_index(drop=True)\n",
    "        self.current_step = 0\n",
    "        self.action_space = spaces.Discrete(3)  # Buy, Sell, Hold\n",
    "        self.observation_space = spaces.Box(low=0, high=np.inf, shape=(5,), dtype=np.float32)\n",
    "\n",
    "    def reset(self):\n",
    "        self.current_step = 0\n",
    "        return self.data.iloc[self.current_step][['interest_rate', 'inflation_rate', 'gdp_growth_rate', 'unemployment_rate', 'currency_price']].values.astype(np.float32)\n",
    "\n",
    "    def step(self, action):\n",
    "        # Check if we are at the last step before proceeding\n",
    "        if self.current_step >= len(self.data) - 1:\n",
    "            done = True\n",
    "            return self.reset(), 0, done, {}\n",
    "\n",
    "        # Increment step\n",
    "        self.current_step += 1\n",
    "\n",
    "        # Calculate reward based on action\n",
    "        price_change = self.data.iloc[self.current_step]['currency_price'] - self.data.iloc[self.current_step - 1]['currency_price']\n",
    "        reward = 0\n",
    "\n",
    "        if action == 0:  # Buy\n",
    "            reward = price_change\n",
    "        elif action == 1:  # Sell\n",
    "            reward = -price_change\n",
    "        elif action == 2:  # Hold\n",
    "            reward = 0\n",
    "\n",
    "        # Get the next state\n",
    "        next_state = self.data.iloc[self.current_step][['interest_rate', 'inflation_rate', 'gdp_growth_rate', 'unemployment_rate', 'currency_price']].values.astype(np.float32)\n",
    "        done = self.current_step >= len(self.data) - 1  # Check if done\n",
    "\n",
    "        return next_state, reward, done, {}\n"
   ]
  },
  {
   "cell_type": "code",
   "execution_count": 7,
   "metadata": {},
   "outputs": [],
   "source": [
    "# Initialize the Forex trading environment\n",
    "env = ForexTradingEnv(data)\n"
   ]
  },
  {
   "cell_type": "code",
   "execution_count": 8,
   "metadata": {},
   "outputs": [],
   "source": [
    "df = pd.DataFrame(data)\n",
    "    # Ensure numeric types\n",
    "df['interest_rate'] = pd.to_numeric(df['interest_rate'])\n",
    "df['inflation_rate'] = pd.to_numeric(df['inflation_rate'])\n",
    "df['gdp_growth_rate'] = pd.to_numeric(df['gdp_growth_rate'])\n",
    "df['unemployment_rate'] = pd.to_numeric(df['unemployment_rate'])\n",
    "df['currency_price'] = pd.to_numeric(df['currency_price'])"
   ]
  },
  {
   "cell_type": "code",
   "execution_count": 9,
   "metadata": {},
   "outputs": [],
   "source": [
    "from stable_baselines3 import PPO\n"
   ]
  },
  {
   "cell_type": "code",
   "execution_count": 10,
   "metadata": {},
   "outputs": [
    {
     "name": "stdout",
     "output_type": "stream",
     "text": [
      "Using cpu device\n",
      "Wrapping the env with a `Monitor` wrapper\n",
      "Wrapping the env in a DummyVecEnv.\n"
     ]
    },
    {
     "name": "stderr",
     "output_type": "stream",
     "text": [
      "C:\\Users\\cl501_27\\AppData\\Roaming\\Python\\Python311\\site-packages\\stable_baselines3\\common\\vec_env\\patch_gym.py:49: UserWarning: You provided an OpenAI Gym environment. We strongly recommend transitioning to Gymnasium environments. Stable-Baselines3 is automatically wrapping your environments in a compatibility layer, which could potentially cause issues.\n",
      "  warnings.warn(\n"
     ]
    },
    {
     "name": "stdout",
     "output_type": "stream",
     "text": [
      "---------------------------------\n",
      "| rollout/           |          |\n",
      "|    ep_len_mean     | 99       |\n",
      "|    ep_rew_mean     | -0.358   |\n",
      "| time/              |          |\n",
      "|    fps             | 1539     |\n",
      "|    iterations      | 1        |\n",
      "|    time_elapsed    | 1        |\n",
      "|    total_timesteps | 2048     |\n",
      "---------------------------------\n"
     ]
    }
   ],
   "source": [
    "# Create the agent\n",
    "model = PPO(\"MlpPolicy\", env, verbose=1)\n",
    "\n",
    "# Train the agent with fewer timesteps for testing\n",
    "model.learn(total_timesteps=1000)\n",
    "\n",
    "# Save the model\n",
    "model.save(\"forex_agent\")\n"
   ]
  },
  {
   "cell_type": "code",
   "execution_count": 11,
   "metadata": {},
   "outputs": [
    {
     "name": "stdout",
     "output_type": "stream",
     "text": [
      "Total Reward: 1.7296277413097236\n"
     ]
    }
   ],
   "source": [
    "# Load the model for testing\n",
    "model = PPO.load(\"forex_agent\")\n",
    "\n",
    "# Test the agent\n",
    "obs = env.reset()\n",
    "total_reward = 0\n",
    "for _ in range(len(data) - 1):\n",
    "    action, _ = model.predict(obs)\n",
    "    obs, reward, done, _ = env.step(action)\n",
    "    total_reward += reward\n",
    "    if done:\n",
    "        break\n",
    "\n",
    "print(f\"Total Reward: {total_reward}\")\n"
   ]
  },
  {
   "cell_type": "code",
   "execution_count": 12,
   "metadata": {},
   "outputs": [
    {
     "ename": "",
     "evalue": "",
     "output_type": "error",
     "traceback": [
      "\u001b[1;31mThe Kernel crashed while executing code in the current cell or a previous cell. \n",
      "\u001b[1;31mPlease review the code in the cell(s) to identify a possible cause of the failure. \n",
      "\u001b[1;31mClick <a href='https://aka.ms/vscodeJupyterKernelCrash'>here</a> for more info. \n",
      "\u001b[1;31mView Jupyter <a href='command:jupyter.viewOutput'>log</a> for further details."
     ]
    }
   ],
   "source": [
    "import matplotlib.pyplot as plt\n",
    "\n",
    "# Initialize the environment\n",
    "obs = env.reset()\n",
    "cumulative_reward = 0\n",
    "rewards = []\n",
    "prices = []\n",
    "\n",
    "for _ in range(len(data) - 1):\n",
    "    action, _ = model.predict(obs)\n",
    "    obs, reward, done, _ = env.step(action)\n",
    "    cumulative_reward += reward\n",
    "    rewards.append(cumulative_reward)\n",
    "    prices.append(env.data.iloc[env.current_step]['currency_price'])\n",
    "    if done:\n",
    "        break\n",
    "\n",
    "# Plotting\n",
    "plt.figure(figsize=(14, 7))\n",
    "\n",
    "# Plot cumulative rewards\n",
    "plt.subplot(2, 1, 1)\n",
    "plt.plot(rewards, label='Cumulative Reward')\n",
    "plt.title('Agent Cumulative Reward Over Time')\n",
    "plt.xlabel('Steps')\n",
    "plt.ylabel('Cumulative Reward')\n",
    "plt.legend()\n",
    "\n",
    "# Plot currency prices\n",
    "plt.subplot(2, 1, 2)\n",
    "plt.plot(prices, label='Currency Price', color='orange')\n",
    "plt.title('Currency Price Over Time')\n",
    "plt.xlabel('Steps')\n",
    "plt.ylabel('Price')\n",
    "plt.legend()\n",
    "\n",
    "plt.tight_layout()\n",
    "plt.show()\n"
   ]
  },
  {
   "cell_type": "code",
   "execution_count": null,
   "metadata": {},
   "outputs": [],
   "source": []
  }
 ],
 "metadata": {
  "kernelspec": {
   "display_name": "base",
   "language": "python",
   "name": "python3"
  },
  "language_info": {
   "codemirror_mode": {
    "name": "ipython",
    "version": 3
   },
   "file_extension": ".py",
   "mimetype": "text/x-python",
   "name": "python",
   "nbconvert_exporter": "python",
   "pygments_lexer": "ipython3",
   "version": "3.12.3"
  }
 },
 "nbformat": 4,
 "nbformat_minor": 2
}
